{
 "cells": [
  {
   "cell_type": "code",
   "execution_count": null,
   "id": "0020778b",
   "metadata": {},
   "outputs": [],
   "source": [
    "#Data with certain noise\n",
    "\n",
    "#Finding the high density food environment\n",
    "\n",
    "x_coordinates = [0]*len(coordinates)\n",
    "y_coordinates = [0]*len(coordinates)\n",
    "for i in range(len(coordinates)):\n",
    "    x_coordinates[i] = coordinates[i][0]\n",
    "    y_coordinates[i] = coordinates[i][1]\n",
    "    \n",
    "\n",
    "import itertools\n",
    "x_limits = [(0,24),(25,49),(50,74), (75,99)]\n",
    "y_limits = [(0,24),(25,49),(50,74), (75,99)]\n",
    "\n",
    "combos = list(itertools.product(x_limits, y_limits))\n",
    "density  = [] \n",
    "for i in range(len(x_limits)):\n",
    "    \n",
    "    xx_lim_do = x_limits[i][0]\n",
    "    xx_lim_up = x_limits[i][1]\n",
    "\n",
    "    xx =  np.where((np.array(x_coordinates) <= xx_lim_up) & (np.array(x_coordinates)  >= xx_lim_do))\n",
    "    \n",
    "    for j in range(len(y_limits)):\n",
    "        \n",
    "        yy_lim_do = y_limits[j][0]\n",
    "        yy_lim_up = y_limits[j][1]\n",
    "        \n",
    "        yy =  np.where((np.array(y_coordinates) <= yy_lim_up) & (np.array(y_coordinates)  >= yy_lim_do))\n",
    "        \n",
    "        density.append(len(np.intersect1d(xx , yy)))\n",
    "        \n",
    "np.where(density == np.max(density))[0][0]  \n",
    "\n",
    "HDsection = combos[np.where(density == np.max(density))[0][0] ]\n",
    "\n",
    "\n",
    "xx_lim_do = HDsection[0][0]\n",
    "xx_lim_up = HDsection[0][1]\n",
    "yy_lim_do = HDsection[1][0]\n",
    "yy_lim_up = HDsection[1][1]\n",
    "\n",
    "xx = np.where((np.array(x_coordinates) < xx_lim_up) & (np.array(x_coordinates)  > xx_lim_do))\n",
    "yy = np.where((np.array(y_coordinates) < yy_lim_up) & (np.array(y_coordinates)  > yy_lim_do))\n",
    "\n",
    "sample_food = np.random.choice(np.intersect1d(xx , yy) ,1)[0]"
   ]
  }
 ],
 "metadata": {
  "kernelspec": {
   "display_name": "Python 3 (ipykernel)",
   "language": "python",
   "name": "python3"
  },
  "language_info": {
   "codemirror_mode": {
    "name": "ipython",
    "version": 3
   },
   "file_extension": ".py",
   "mimetype": "text/x-python",
   "name": "python",
   "nbconvert_exporter": "python",
   "pygments_lexer": "ipython3",
   "version": "3.10.4"
  }
 },
 "nbformat": 4,
 "nbformat_minor": 5
}
